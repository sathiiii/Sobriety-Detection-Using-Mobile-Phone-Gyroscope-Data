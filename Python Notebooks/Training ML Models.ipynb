{
 "cells": [
  {
   "cell_type": "markdown",
   "metadata": {},
   "source": [
    "## Importing the necessary libraries"
   ]
  },
  {
   "cell_type": "code",
   "execution_count": 26,
   "metadata": {},
   "outputs": [],
   "source": [
    "import os\n",
    "import numpy as np\n",
    "import pandas as pd\n",
    "from tqdm import tqdm\n",
    "import matplotlib.pyplot as plt\n",
    "import seaborn as sns\n",
    "from sklearn.model_selection import train_test_split\n",
    "from sklearn import metrics\n",
    "from sklearn.preprocessing import StandardScaler\n",
    "from sklearn.model_selection import GridSearchCV\n",
    "from sklearn.ensemble import RandomForestClassifier"
   ]
  },
  {
   "cell_type": "markdown",
   "metadata": {},
   "source": [
    "## Importing the dataset"
   ]
  },
  {
   "cell_type": "code",
   "execution_count": 2,
   "metadata": {},
   "outputs": [],
   "source": [
    "DATASET_PATH = '../Datasets/Accelerometer Data + TAC/'\n",
    "datasets = {filename.split('.')[0]: pd.read_csv(f'{DATASET_PATH}feature_data/{filename}') for filename in os.listdir(f'{DATASET_PATH}feature_data/')}"
   ]
  },
  {
   "cell_type": "code",
   "execution_count": 3,
   "metadata": {},
   "outputs": [
    {
     "name": "stdout",
     "output_type": "stream",
     "text": [
      "Total number of samples: 35860\n"
     ]
    }
   ],
   "source": [
    "total_len = 0\n",
    "for dataset in datasets.values():\n",
    "    total_len += len(dataset)\n",
    "print(f'Total number of samples: {total_len}')"
   ]
  },
  {
   "cell_type": "markdown",
   "metadata": {},
   "source": [
    "Brief look at the dataset"
   ]
  },
  {
   "cell_type": "code",
   "execution_count": 24,
   "metadata": {},
   "outputs": [
    {
     "data": {
      "text/html": [
       "<div>\n",
       "<style scoped>\n",
       "    .dataframe tbody tr th:only-of-type {\n",
       "        vertical-align: middle;\n",
       "    }\n",
       "\n",
       "    .dataframe tbody tr th {\n",
       "        vertical-align: top;\n",
       "    }\n",
       "\n",
       "    .dataframe thead th {\n",
       "        text-align: right;\n",
       "    }\n",
       "</style>\n",
       "<table border=\"1\" class=\"dataframe\">\n",
       "  <thead>\n",
       "    <tr style=\"text-align: right;\">\n",
       "      <th></th>\n",
       "      <th>x_mean_mean</th>\n",
       "      <th>x_mean_variance</th>\n",
       "      <th>x_mean_min</th>\n",
       "      <th>x_mean_max</th>\n",
       "      <th>x_mean_lower_third_mean</th>\n",
       "      <th>x_mean_upper_third_mean</th>\n",
       "      <th>y_mean_mean</th>\n",
       "      <th>y_mean_variance</th>\n",
       "      <th>y_mean_min</th>\n",
       "      <th>y_mean_max</th>\n",
       "      <th>...</th>\n",
       "      <th>y_max_freq_max_diff</th>\n",
       "      <th>y_max_freq_lower_third_mean_diff</th>\n",
       "      <th>y_max_freq_upper_third_mean_diff</th>\n",
       "      <th>z_max_freq_mean_diff</th>\n",
       "      <th>z_max_freq_variance_diff</th>\n",
       "      <th>z_max_freq_min_diff</th>\n",
       "      <th>z_max_freq_max_diff</th>\n",
       "      <th>z_max_freq_lower_third_mean_diff</th>\n",
       "      <th>z_max_freq_upper_third_mean_diff</th>\n",
       "      <th>ground_truth</th>\n",
       "    </tr>\n",
       "  </thead>\n",
       "  <tbody>\n",
       "    <tr>\n",
       "      <th>0</th>\n",
       "      <td>0.013721</td>\n",
       "      <td>7.599049e-04</td>\n",
       "      <td>-0.017745</td>\n",
       "      <td>0.070992</td>\n",
       "      <td>-0.009408</td>\n",
       "      <td>0.023633</td>\n",
       "      <td>0.000898</td>\n",
       "      <td>0.000027</td>\n",
       "      <td>-0.010774</td>\n",
       "      <td>0.009670</td>\n",
       "      <td>...</td>\n",
       "      <td>17.0</td>\n",
       "      <td>3.166667</td>\n",
       "      <td>9.857143</td>\n",
       "      <td>10.750000</td>\n",
       "      <td>45.562500</td>\n",
       "      <td>0.0</td>\n",
       "      <td>19.5</td>\n",
       "      <td>2.833333</td>\n",
       "      <td>14.142857</td>\n",
       "      <td>1</td>\n",
       "    </tr>\n",
       "    <tr>\n",
       "      <th>1</th>\n",
       "      <td>0.002651</td>\n",
       "      <td>2.973126e-05</td>\n",
       "      <td>-0.002529</td>\n",
       "      <td>0.014274</td>\n",
       "      <td>-0.002195</td>\n",
       "      <td>0.004728</td>\n",
       "      <td>0.005218</td>\n",
       "      <td>0.000027</td>\n",
       "      <td>-0.001043</td>\n",
       "      <td>0.015194</td>\n",
       "      <td>...</td>\n",
       "      <td>2.5</td>\n",
       "      <td>0.333333</td>\n",
       "      <td>3.071429</td>\n",
       "      <td>0.200000</td>\n",
       "      <td>-14.590000</td>\n",
       "      <td>3.0</td>\n",
       "      <td>0.0</td>\n",
       "      <td>1.500000</td>\n",
       "      <td>-0.357143</td>\n",
       "      <td>1</td>\n",
       "    </tr>\n",
       "    <tr>\n",
       "      <th>2</th>\n",
       "      <td>0.000887</td>\n",
       "      <td>9.807391e-06</td>\n",
       "      <td>-0.002924</td>\n",
       "      <td>0.007199</td>\n",
       "      <td>-0.002314</td>\n",
       "      <td>0.002259</td>\n",
       "      <td>0.003658</td>\n",
       "      <td>0.000008</td>\n",
       "      <td>-0.000531</td>\n",
       "      <td>0.009664</td>\n",
       "      <td>...</td>\n",
       "      <td>0.0</td>\n",
       "      <td>-0.666667</td>\n",
       "      <td>1.684211</td>\n",
       "      <td>-1.478947</td>\n",
       "      <td>14.995568</td>\n",
       "      <td>-3.0</td>\n",
       "      <td>-1.5</td>\n",
       "      <td>-3.666667</td>\n",
       "      <td>-0.541353</td>\n",
       "      <td>1</td>\n",
       "    </tr>\n",
       "    <tr>\n",
       "      <th>3</th>\n",
       "      <td>-0.000514</td>\n",
       "      <td>2.979465e-06</td>\n",
       "      <td>-0.004895</td>\n",
       "      <td>0.000923</td>\n",
       "      <td>-0.002582</td>\n",
       "      <td>0.000373</td>\n",
       "      <td>0.002559</td>\n",
       "      <td>0.000019</td>\n",
       "      <td>-0.002534</td>\n",
       "      <td>0.014478</td>\n",
       "      <td>...</td>\n",
       "      <td>-0.5</td>\n",
       "      <td>-2.491453</td>\n",
       "      <td>-5.147983</td>\n",
       "      <td>-1.744755</td>\n",
       "      <td>3.987999</td>\n",
       "      <td>0.0</td>\n",
       "      <td>1.5</td>\n",
       "      <td>0.683761</td>\n",
       "      <td>-2.785547</td>\n",
       "      <td>1</td>\n",
       "    </tr>\n",
       "    <tr>\n",
       "      <th>4</th>\n",
       "      <td>0.000993</td>\n",
       "      <td>2.941775e-07</td>\n",
       "      <td>-0.000308</td>\n",
       "      <td>0.002049</td>\n",
       "      <td>0.000487</td>\n",
       "      <td>0.001210</td>\n",
       "      <td>0.001876</td>\n",
       "      <td>0.000007</td>\n",
       "      <td>-0.001435</td>\n",
       "      <td>0.009453</td>\n",
       "      <td>...</td>\n",
       "      <td>0.5</td>\n",
       "      <td>1.491453</td>\n",
       "      <td>3.892343</td>\n",
       "      <td>-1.526298</td>\n",
       "      <td>-4.346067</td>\n",
       "      <td>0.0</td>\n",
       "      <td>-1.5</td>\n",
       "      <td>-1.183761</td>\n",
       "      <td>-1.673099</td>\n",
       "      <td>1</td>\n",
       "    </tr>\n",
       "  </tbody>\n",
       "</table>\n",
       "<p>5 rows × 757 columns</p>\n",
       "</div>"
      ],
      "text/plain": [
       "   x_mean_mean  x_mean_variance  x_mean_min  x_mean_max  \\\n",
       "0     0.013721     7.599049e-04   -0.017745    0.070992   \n",
       "1     0.002651     2.973126e-05   -0.002529    0.014274   \n",
       "2     0.000887     9.807391e-06   -0.002924    0.007199   \n",
       "3    -0.000514     2.979465e-06   -0.004895    0.000923   \n",
       "4     0.000993     2.941775e-07   -0.000308    0.002049   \n",
       "\n",
       "   x_mean_lower_third_mean  x_mean_upper_third_mean  y_mean_mean  \\\n",
       "0                -0.009408                 0.023633     0.000898   \n",
       "1                -0.002195                 0.004728     0.005218   \n",
       "2                -0.002314                 0.002259     0.003658   \n",
       "3                -0.002582                 0.000373     0.002559   \n",
       "4                 0.000487                 0.001210     0.001876   \n",
       "\n",
       "   y_mean_variance  y_mean_min  y_mean_max  ...  y_max_freq_max_diff  \\\n",
       "0         0.000027   -0.010774    0.009670  ...                 17.0   \n",
       "1         0.000027   -0.001043    0.015194  ...                  2.5   \n",
       "2         0.000008   -0.000531    0.009664  ...                  0.0   \n",
       "3         0.000019   -0.002534    0.014478  ...                 -0.5   \n",
       "4         0.000007   -0.001435    0.009453  ...                  0.5   \n",
       "\n",
       "   y_max_freq_lower_third_mean_diff  y_max_freq_upper_third_mean_diff  \\\n",
       "0                          3.166667                          9.857143   \n",
       "1                          0.333333                          3.071429   \n",
       "2                         -0.666667                          1.684211   \n",
       "3                         -2.491453                         -5.147983   \n",
       "4                          1.491453                          3.892343   \n",
       "\n",
       "   z_max_freq_mean_diff  z_max_freq_variance_diff  z_max_freq_min_diff  \\\n",
       "0             10.750000                 45.562500                  0.0   \n",
       "1              0.200000                -14.590000                  3.0   \n",
       "2             -1.478947                 14.995568                 -3.0   \n",
       "3             -1.744755                  3.987999                  0.0   \n",
       "4             -1.526298                 -4.346067                  0.0   \n",
       "\n",
       "   z_max_freq_max_diff  z_max_freq_lower_third_mean_diff  \\\n",
       "0                 19.5                          2.833333   \n",
       "1                  0.0                          1.500000   \n",
       "2                 -1.5                         -3.666667   \n",
       "3                  1.5                          0.683761   \n",
       "4                 -1.5                         -1.183761   \n",
       "\n",
       "   z_max_freq_upper_third_mean_diff  ground_truth  \n",
       "0                         14.142857             1  \n",
       "1                         -0.357143             1  \n",
       "2                         -0.541353             1  \n",
       "3                         -2.785547             1  \n",
       "4                         -1.673099             1  \n",
       "\n",
       "[5 rows x 757 columns]"
      ]
     },
     "execution_count": 24,
     "metadata": {},
     "output_type": "execute_result"
    }
   ],
   "source": [
    "datasets[list(datasets.keys())[0]].head()"
   ]
  },
  {
   "cell_type": "code",
   "execution_count": 29,
   "metadata": {},
   "outputs": [],
   "source": [
    "X_data, y_data = [], []\n",
    "\n",
    "for dataset in datasets.values():\n",
    "    X_data.extend(dataset.iloc[:, :-1].values)\n",
    "    y_data.extend(dataset.iloc[:, -1].values)\n",
    "\n",
    "X_data = np.array(X_data)\n",
    "y_data = np.array(y_data)"
   ]
  },
  {
   "cell_type": "markdown",
   "metadata": {},
   "source": [
    "## Feature Importance Analysis"
   ]
  },
  {
   "cell_type": "code",
   "execution_count": null,
   "metadata": {},
   "outputs": [],
   "source": [
    "# TODO"
   ]
  },
  {
   "cell_type": "markdown",
   "metadata": {},
   "source": [
    "## Feature Selection"
   ]
  },
  {
   "cell_type": "code",
   "execution_count": null,
   "metadata": {},
   "outputs": [],
   "source": [
    "# TODO"
   ]
  },
  {
   "cell_type": "markdown",
   "metadata": {},
   "source": [
    "## Feature Scaling and Normalization"
   ]
  },
  {
   "cell_type": "markdown",
   "metadata": {},
   "source": [
    "(Not sure if this is necessary)"
   ]
  },
  {
   "cell_type": "code",
   "execution_count": 27,
   "metadata": {},
   "outputs": [],
   "source": [
    "# scaler = StandardScaler()\n",
    "# scaler.fit(X_data)\n",
    "# X_data = scaler.transform(X_data)"
   ]
  },
  {
   "cell_type": "markdown",
   "metadata": {},
   "source": [
    "## Model Training"
   ]
  },
  {
   "cell_type": "markdown",
   "metadata": {},
   "source": [
    "Splitting the dataset into the Training set and Test set"
   ]
  },
  {
   "cell_type": "code",
   "execution_count": 30,
   "metadata": {},
   "outputs": [],
   "source": [
    "# TODO: #7 In feature extraction, label each row with the window number and the pid\n",
    "# -> This will help compare the predictions by plotting over the real signal\n",
    "X_train, X_test, y_train, y_test = train_test_split(X_data, y_data, test_size=0.2, random_state=42)"
   ]
  },
  {
   "cell_type": "code",
   "execution_count": 31,
   "metadata": {},
   "outputs": [
    {
     "name": "stdout",
     "output_type": "stream",
     "text": [
      "X_train shape: (28688, 756)\n",
      "X_test shape: (7172, 756)\n"
     ]
    }
   ],
   "source": [
    "print(f'X_train shape: {X_train.shape}')\n",
    "print(f'X_test shape: {X_test.shape}')"
   ]
  },
  {
   "cell_type": "markdown",
   "metadata": {},
   "source": [
    "For starters, we will use a random forest classifier without any hyperparameter tuning and arbitrary hyperparameter values."
   ]
  },
  {
   "cell_type": "code",
   "execution_count": 34,
   "metadata": {},
   "outputs": [
    {
     "data": {
      "text/plain": [
       "RandomForestClassifier(max_depth=10, random_state=42)"
      ]
     },
     "execution_count": 34,
     "metadata": {},
     "output_type": "execute_result"
    }
   ],
   "source": [
    "clf = RandomForestClassifier(n_estimators=100, max_depth=10, random_state=42)\n",
    "clf.fit(X_train, y_train)"
   ]
  },
  {
   "cell_type": "code",
   "execution_count": 35,
   "metadata": {},
   "outputs": [
    {
     "name": "stdout",
     "output_type": "stream",
     "text": [
      "Accuracy: 0.9156441717791411\n"
     ]
    }
   ],
   "source": [
    "y_pred = clf.predict(X_test)\n",
    "print(f'Accuracy: {metrics.accuracy_score(y_test, y_pred)}')"
   ]
  },
  {
   "cell_type": "code",
   "execution_count": null,
   "metadata": {},
   "outputs": [],
   "source": []
  }
 ],
 "metadata": {
  "interpreter": {
   "hash": "853a5ad77b46bf4e300f794d2eff920655f7c22a6c3722bd084cc0c14cc8e0da"
  },
  "kernelspec": {
   "display_name": "Python 3.9.9 ('tf-gpu')",
   "language": "python",
   "name": "python3"
  },
  "language_info": {
   "codemirror_mode": {
    "name": "ipython",
    "version": 3
   },
   "file_extension": ".py",
   "mimetype": "text/x-python",
   "name": "python",
   "nbconvert_exporter": "python",
   "pygments_lexer": "ipython3",
   "version": "3.9.9"
  },
  "orig_nbformat": 4
 },
 "nbformat": 4,
 "nbformat_minor": 2
}
